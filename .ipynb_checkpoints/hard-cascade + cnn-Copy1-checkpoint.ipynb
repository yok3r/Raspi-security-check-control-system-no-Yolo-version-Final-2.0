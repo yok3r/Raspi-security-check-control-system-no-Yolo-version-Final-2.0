{
 "cells": [
  {
   "cell_type": "code",
   "execution_count": 3,
   "metadata": {},
   "outputs": [
    {
     "name": "stdout",
     "output_type": "stream",
     "text": [
      "OpenCV(3.4.2) /opt/concourse/worker/volumes/live/9523d527-1b9e-48e0-7ed0-a36adde286f0/volume/opencv-suite_1535558719691/work/modules/imgproc/src/resize.cpp:4044: error: (-215:Assertion failed) !ssize.empty() in function 'resize'\n",
      "\n",
      "OpenCV(3.4.2) /opt/concourse/worker/volumes/live/9523d527-1b9e-48e0-7ed0-a36adde286f0/volume/opencv-suite_1535558719691/work/modules/imgproc/src/resize.cpp:4044: error: (-215:Assertion failed) !ssize.empty() in function 'resize'\n",
      "\n",
      "OpenCV(3.4.2) /opt/concourse/worker/volumes/live/9523d527-1b9e-48e0-7ed0-a36adde286f0/volume/opencv-suite_1535558719691/work/modules/imgproc/src/resize.cpp:4044: error: (-215:Assertion failed) !ssize.empty() in function 'resize'\n",
      "\n"
     ]
    },
    {
     "data": {
      "text/plain": [
       "-1"
      ]
     },
     "execution_count": 3,
     "metadata": {},
     "output_type": "execute_result"
    }
   ],
   "source": [
    "import cv2\n",
    "import numpy as np\n",
    "import pickle\n",
    "import matplotlib.pyplot as plt\n",
    "%matplotlib inline\n",
    "import time\n",
    "\n",
    "#load the model\n",
    "with open('cnn_model_450_3160.pkl', 'rb') as p_f:\n",
    "    model = pickle.load(p_f)\n",
    "\n",
    "cap = cv2.VideoCapture(0)\n",
    "face_classifier = cv2.CascadeClassifier('haarcascade_frontalface_default.xml')\n",
    "\n",
    "count_eva = 0\n",
    "count_edgar = 0\n",
    "while True:\n",
    "\n",
    "    ret, frame = cap.read()\n",
    "    faces = face_classifier.detectMultiScale(frame, 1.3, 5)\n",
    "    for (x,y,w,h) in faces:\n",
    "        magin = 100\n",
    "        top_left_x = x-magin\n",
    "        top_left_y = y-magin\n",
    "        bottom_right_x = x+w+magin\n",
    "        bottom_right_y = y+w+magin\n",
    "\n",
    "        cropped = frame[top_left_y:bottom_right_y, top_left_x:bottom_right_x]\n",
    "        cv2.rectangle(frame, (x,y),(x+w,y+w), (127,0,255), 2)\n",
    "        \n",
    "        try:            \n",
    "            img = cv2.resize(cropped, (450,450))\n",
    "            im2arr = np.array(img)\n",
    "            im2arr1 = im2arr.reshape(1,450,450,3)\n",
    "\n",
    "            time.sleep(0.05) \n",
    "            predictions = model.predict(im2arr1)\n",
    "            predictions = predictions[0][0]\n",
    "            \n",
    "            text = str(predictions)\n",
    "            if predictions < 0.19:\n",
    "                text = \"Eva\"\n",
    "                count_eva+=1\n",
    "            elif predictions > 0.9:\n",
    "                text = \"Edgar\"\n",
    "                count_edgar\n",
    "            else:\n",
    "                text = \"patata\"\n",
    "                \n",
    "            text_pred = str(predictions)\n",
    "            cv2.putText(frame,text,(30,70), cv2.FONT_HERSHEY_COMPLEX, 1 ,(0,0,0), 3)\n",
    "            cv2.putText(frame,text_pred,(30,110), cv2.FONT_HERSHEY_COMPLEX, 1,(0,0,0), 6)\n",
    "            \n",
    "        except Exception as e:\n",
    "            print(str(e))\n",
    "\n",
    "        \n",
    "    cv2.imshow('Object Detector using ORB', frame)\n",
    "    \n",
    "    if cv2.waitKey(1) == 13: #13 is the Enter Key\n",
    "        break\n",
    "\n",
    "cap.release()\n",
    "cv2.destroyAllWindows()\n",
    "cv2.waitKey(1)"
   ]
  },
  {
   "cell_type": "code",
   "execution_count": null,
   "metadata": {},
   "outputs": [],
   "source": []
  }
 ],
 "metadata": {
  "kernelspec": {
   "display_name": "Python 3",
   "language": "python",
   "name": "python3"
  },
  "language_info": {
   "codemirror_mode": {
    "name": "ipython",
    "version": 3
   },
   "file_extension": ".py",
   "mimetype": "text/x-python",
   "name": "python",
   "nbconvert_exporter": "python",
   "pygments_lexer": "ipython3",
   "version": "3.7.4"
  }
 },
 "nbformat": 4,
 "nbformat_minor": 2
}
