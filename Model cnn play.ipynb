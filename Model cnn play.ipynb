{
 "cells": [
  {
   "cell_type": "code",
   "execution_count": 17,
   "metadata": {},
   "outputs": [],
   "source": [
    "import cv2\n",
    "import numpy as np"
   ]
  },
  {
   "cell_type": "code",
   "execution_count": 18,
   "metadata": {},
   "outputs": [],
   "source": [
    "import pickle\n",
    "\n",
    "with open('cnn_model_450.pkl', 'rb') as p_f:\n",
    "    model = pickle.load(p_f)"
   ]
  },
  {
   "cell_type": "code",
   "execution_count": 21,
   "metadata": {},
   "outputs": [],
   "source": [
    "cap = cv2.VideoCapture(0)\n",
    "from PIL import ImageFont, ImageDraw, Image\n",
    "\n",
    "\n",
    "while True:\n",
    "\n",
    "    # Get webcam images\n",
    "    ret, frame = cap.read()\n",
    "        \n",
    "    color_eva= cv2.cvtColor(frame,cv2.COLOR_BGR2RGB)\n",
    "    img = np.resize(color_eva, (450,450,3))\n",
    "    im2arr = np.array(img)\n",
    "    im2arr1 = im2arr.reshape(1,450,450,3)\n",
    "    #print(im2arr)\n",
    "\n",
    "    predictions = model.predict(im2arr1)\n",
    "    cv2.putText(frame,str(predictions*100),(30,170), cv2.FONT_HERSHEY_COMPLEX, 2 ,(255,255,255), 6)\n",
    "    if predictions == 0:\n",
    "        text = \"EVA\"\n",
    "    elif predictions == 1:\n",
    "        text = \"EDGAR\"\n",
    "    else:\n",
    "        text = \"What's that?\"\n",
    "    cv2.putText(frame,text,(30,70), cv2.FONT_HERSHEY_COMPLEX, 2 ,(255,255,255), 6)\n",
    "    \n",
    "    cv2.imshow('Object Detector using ORB', frame)\n",
    "    \n",
    "    if cv2.waitKey(1) == 13: #13 is the Enter Key\n",
    "        break\n",
    "\n",
    "cap.release()\n",
    "cv2.destroyAllWindows()"
   ]
  },
  {
   "cell_type": "code",
   "execution_count": null,
   "metadata": {},
   "outputs": [],
   "source": []
  }
 ],
 "metadata": {
  "kernelspec": {
   "display_name": "Python 3",
   "language": "python",
   "name": "python3"
  },
  "language_info": {
   "codemirror_mode": {
    "name": "ipython",
    "version": 3
   },
   "file_extension": ".py",
   "mimetype": "text/x-python",
   "name": "python",
   "nbconvert_exporter": "python",
   "pygments_lexer": "ipython3",
   "version": "3.7.4"
  }
 },
 "nbformat": 4,
 "nbformat_minor": 2
}
